{
 "cells": [
  {
   "cell_type": "code",
   "execution_count": 1,
   "metadata": {},
   "outputs": [],
   "source": [
    "import argparse\n",
    "import sys, os\n",
    "sys.path.append(os.path.join(sys.path[0], '/home/ibespalov/unsupervised_pattern_segmentation/'))\n",
    "sys.path.append(os.path.join(sys.path[0], '/home/ibespalov/unsupervised_pattern_segmentation/gans_pytorch/'))\n",
    "sys.path.append(os.path.join(sys.path[0], '/home/ibespalov/unsupervised_pattern_segmentation/gans_pytorch/stylegan2'))\n",
    "sys.path.append(os.path.join(sys.path[0], '/home/ibespalov/unsupervised_pattern_segmentation/gans_pytorch/gan/'))\n",
    "\n",
    "from gan.gan_model import cont_style_munit_enc\n",
    "from models.munit.enc_dec import MunitEncoder\n",
    "from parameters.dataset import DatasetParameters\n",
    "from parameters.deformation import DeformationParameters\n",
    "from parameters.gan import GanParameters, MunitParameters\n",
    "import albumentations\n",
    "from albumentations.pytorch.transforms import ToTensor as AlbToTensor\n",
    "from dataset.cardio_dataset import ImageMeasureDataset\n",
    "from torch.utils import data\n",
    "from transforms_utils.transforms import MaskToMeasure\n",
    "import numpy as np\n",
    "from transforms_utils.transforms import MeasureToMask, ToNumpy, NumpyBatch, ToTensor, MaskToMeasure, ResizeMask\n",
    "from dataset.lazy_loader import LazyLoader, W300DatasetLoader, CelebaWithKeyPoints, Celeba\n",
    "from dataset.toheatmap import ToHeatMap, heatmap_to_measure\n",
    "from modules.hg import hg2, final_preds_untransformed, hg8, hg4, HG_softmax2020\n",
    "from modules.linear_ot import SOT, PairwiseDistance\n",
    "from dataset.probmeasure import ProbabilityMeasureFabric, ProbabilityMeasure, UniformMeasure2DFactory, \\\n",
    "UniformMeasure2D01\n",
    "from torch import nn"
   ]
  },
  {
   "cell_type": "code",
   "execution_count": 2,
   "metadata": {},
   "outputs": [],
   "source": [
    "import matplotlib.pyplot as plt\n",
    "import matplotlib.image as mpimg"
   ]
  },
  {
   "cell_type": "code",
   "execution_count": 5,
   "metadata": {},
   "outputs": [],
   "source": [
    "from dataset.cardio_dataset import ImageMeasureDataset\n",
    "from dataset.probmeasure import ProbabilityMeasure, ProbabilityMeasureFabric\n",
    "from geomloss import SamplesLoss\n",
    "from parameters.path import Paths"
   ]
  },
  {
   "cell_type": "code",
   "execution_count": 11,
   "metadata": {},
   "outputs": [],
   "source": [
    "batch_size = 32\n",
    "barycenter: UniformMeasure2D01 = UniformMeasure2DFactory.load(f\"{Paths.default.models()}/face_barycenter_68\").cuda().batch_repeat(batch_size)"
   ]
  },
  {
   "cell_type": "code",
   "execution_count": 8,
   "metadata": {},
   "outputs": [],
   "source": [
    "def handmadew1(m1,m2):\n",
    "    lambd = 0.002\n",
    "    with torch.no_grad():\n",
    "        P = SOT(200, lambd).forward(m1, m2)\n",
    "        M = PairwiseDistance()(m1.coord, m2.coord).sqrt()\n",
    "    return (M * P).sum(dim=(1,2)) / 2 # (2 * m1.coord.shape[1])\n"
   ]
  },
  {
   "cell_type": "code",
   "execution_count": 14,
   "metadata": {},
   "outputs": [
    {
     "name": "stdout",
     "output_type": "stream",
     "text": [
      "0.1533396379002985\n"
     ]
    }
   ],
   "source": [
    "import torch\n",
    "sum_loss = 0\n",
    "for i, batch in enumerate(LazyLoader.w300().test_loader):\n",
    "    landmarks = batch[\"meta\"][\"keypts_normalized\"].cuda()\n",
    "    landmarks[landmarks > 1] = 0.99999\n",
    "    pred_measure = barycenter.slice(0, landmarks.shape[0])\n",
    "    target = UniformMeasure2D01(torch.clamp(landmarks, max=1))\n",
    "    eye_dist = landmarks[:, 45] - landmarks[:, 36]\n",
    "    eye_dist = eye_dist.pow(2).sum(dim=1).sqrt()\n",
    "    sum_loss += (handmadew1(pred_measure, target) / eye_dist).sum().item()\n",
    "print(sum_loss / len(LazyLoader.w300().test_dataset))"
   ]
  },
  {
   "cell_type": "code",
   "execution_count": null,
   "metadata": {},
   "outputs": [],
   "source": []
  }
 ],
 "metadata": {
  "kernelspec": {
   "display_name": "Python 3",
   "language": "python",
   "name": "python3"
  },
  "language_info": {
   "codemirror_mode": {
    "name": "ipython",
    "version": 3
   },
   "file_extension": ".py",
   "mimetype": "text/x-python",
   "name": "python",
   "nbconvert_exporter": "python",
   "pygments_lexer": "ipython3",
   "version": "3.6.9"
  }
 },
 "nbformat": 4,
 "nbformat_minor": 4
}

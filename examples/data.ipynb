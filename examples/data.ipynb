{
 "cells": [
  {
   "cell_type": "code",
   "execution_count": 32,
   "metadata": {},
   "outputs": [],
   "source": [
    "import argparse\n",
    "import sys, os\n",
    "from gan.gan_model import cont_style_munit_enc\n",
    "from models.munit.enc_dec import MunitEncoder\n",
    "from parameters.dataset import DatasetParameters\n",
    "from parameters.deformation import DeformationParameters\n",
    "from parameters.gan import GanParameters, MunitParameters\n",
    "sys.path.append(os.path.join(sys.path[0], '/home/ibespalov/unsupervised_pattern_segmentation/'))\n",
    "sys.path.append(os.path.join(sys.path[0], '/home/ibespalov/unsupervised_pattern_segmentation/gans_pytorch/'))\n",
    "sys.path.append(os.path.join(sys.path[0], '/home/ibespalov/unsupervised_pattern_segmentation/gans_pytorch/stylegan2'))\n",
    "sys.path.append(os.path.join(sys.path[0], '/home/ibespalov/unsupervised_pattern_segmentation/gans_pytorch/gan/'))\n",
    "import albumentations\n",
    "from albumentations.pytorch.transforms import ToTensor as AlbToTensor\n",
    "from dataset.cardio_dataset import ImageMeasureDataset\n",
    "from torch.utils import data\n",
    "from transforms_utils.transforms import MaskToMeasure"
   ]
  },
  {
   "cell_type": "code",
   "execution_count": 33,
   "metadata": {},
   "outputs": [],
   "source": [
    "import matplotlib.pyplot as plt\n",
    "import matplotlib.image as mpimg"
   ]
  },
  {
   "cell_type": "code",
   "execution_count": 34,
   "metadata": {},
   "outputs": [],
   "source": [
    "def data_sampler(dataset, shuffle, distributed):\n",
    "    if distributed:\n",
    "        return data.distributed.DistributedSampler(dataset, shuffle=shuffle)\n",
    "\n",
    "    if shuffle:\n",
    "        return data.RandomSampler(dataset)\n",
    "\n",
    "    else:\n",
    "        return data.SequentialSampler(dataset)\n",
    "    \n",
    "def sample_data(loader):\n",
    "    while True:\n",
    "        for batch in loader:\n",
    "            yield batch"
   ]
  },
  {
   "cell_type": "code",
   "execution_count": 35,
   "metadata": {},
   "outputs": [],
   "source": [
    "transform = albumentations.Compose(\n",
    "    [\n",
    "        albumentations.HorizontalFlip(),\n",
    "        albumentations.Resize(256, 256),\n",
    "        albumentations.ElasticTransform(p=0.5, alpha=100, alpha_affine=1, sigma=10),\n",
    "        albumentations.ShiftScaleRotate(p=0.5, rotate_limit=10),\n",
    "        albumentations.Normalize(mean=[0.5, 0.5, 0.5], std=[0.5, 0.5, 0.5]),\n",
    "        AlbToTensor()\n",
    "    ]\n",
    ")"
   ]
  },
  {
   "cell_type": "code",
   "execution_count": 36,
   "metadata": {},
   "outputs": [],
   "source": [
    "dataset = ImageMeasureDataset(\n",
    "    \"/raid/data/celeba\",\n",
    "    \"/raid/data/celeba_masks\",\n",
    "    img_transform=transform\n",
    ")\n",
    "\n",
    "loader = data.DataLoader(\n",
    "    dataset,\n",
    "    batch_size=16,\n",
    "    sampler=data_sampler(dataset, shuffle=True, distributed=False),\n",
    "    drop_last=True,\n",
    ")"
   ]
  },
  {
   "cell_type": "code",
   "execution_count": 37,
   "metadata": {},
   "outputs": [],
   "source": [
    "loader = sample_data(loader)"
   ]
  },
  {
   "cell_type": "code",
   "execution_count": 38,
   "metadata": {
    "pycharm": {
     "name": "#%%\n"
    }
   },
   "outputs": [],
   "source": [
    "test_img, test_mask = next(loader)\n",
    "\n",
    "ref_measure = MaskToMeasure(size=256, padding=200, clusterize=True)(image=test_img, mask=test_mask)[\"mask\"]\n",
    "\n",
    "\n"
   ]
  },
  {
   "cell_type": "code",
   "execution_count": 41,
   "outputs": [
    {
     "name": "stderr",
     "output_type": "stream",
     "text": [
      "usage: ipykernel_launcher.py [-h] [--image_size IMAGE_SIZE]\n",
      "                             [--batch_size BATCH_SIZE]\n",
      "                             [--measure_size MEASURE_SIZE] [--ngf NGF]\n",
      "                             [--ndf NDF] [--L1 L1] [--noise_size NOISE_SIZE]\n",
      "                             [--ct CT] [--ca CA] [--cw CW]\n",
      "                             [--input_dim INPUT_DIM] [--dim DIM]\n",
      "                             [--style_dim STYLE_DIM]\n",
      "                             [--n_downsample N_DOWNSAMPLE] [--n_res N_RES]\n",
      "                             [--activ ACTIV] [--pad_type PAD_TYPE]\n",
      "                             [--norm NORM] [--mlp_dim MLP_DIM]\n",
      "                             [--n_layer N_LAYER] [--num_scales NUM_SCALES]\n",
      "ipykernel_launcher.py: error: unrecognized arguments: -f /run/user/1002/jupyter/kernel-58741d13-1a98-4f94-a879-b55cc884ba5a.json\n"
     ]
    },
    {
     "ename": "SystemExit",
     "evalue": "2",
     "output_type": "error",
     "traceback": [
      "An exception has occurred, use %tb to see the full traceback.\n",
      "\u001B[0;31mSystemExit\u001B[0m\u001B[0;31m:\u001B[0m 2\n"
     ]
    }
   ],
   "source": [
    "parser = argparse.ArgumentParser(\n",
    "        parents=[\n",
    "            DatasetParameters(),\n",
    "            GanParameters(),\n",
    "            DeformationParameters(),\n",
    "            MunitParameters()\n",
    "        ],\n",
    "        # formatter_class=argparse.ArgumentDefaultsHelpFormatter\n",
    ")\n",
    "munit_args = parser.parse_args()\n",
    "\n",
    "cont_style_encoder: MunitEncoder = cont_style_munit_enc(\n",
    "        munit_args,\n",
    "        None, # \"/home/ibespalov/pomoika/munit_content_encoder15.pt\",\n",
    "        None  # \"/home/ibespalov/pomoika/munit_style_encoder_1.pt\"\n",
    "    )\n",
    "\n",
    "\n",
    "import torch\n",
    "weights = torch.load(f\"/home/ibespalov/pomoika/stylegan2_invertable_220000.pt\", map_location='cpu')\n",
    "cont_style_encoder.load_state_dict(weights['enc'])\n",
    "cont_style_encoder = cont_style_encoder.cuda()"
   ],
   "metadata": {
    "collapsed": false,
    "pycharm": {
     "name": "#%%\n"
    }
   }
  },
  {
   "cell_type": "code",
   "execution_count": null,
   "outputs": [],
   "source": [
    "\n"
   ],
   "metadata": {
    "collapsed": false,
    "pycharm": {
     "name": "#%%\n"
    }
   }
  }
 ],
 "metadata": {
  "kernelspec": {
   "display_name": "Python 3",
   "language": "python",
   "name": "python3"
  },
  "language_info": {
   "codemirror_mode": {
    "name": "ipython",
    "version": 3
   },
   "file_extension": ".py",
   "mimetype": "text/x-python",
   "name": "python",
   "nbconvert_exporter": "python",
   "pygments_lexer": "ipython3",
   "version": "3.6.9"
  }
 },
 "nbformat": 4,
 "nbformat_minor": 1
}
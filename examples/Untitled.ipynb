{
 "cells": [
  {
   "cell_type": "code",
   "execution_count": 4,
   "metadata": {},
   "outputs": [],
   "source": [
    "import torch\n",
    "from torch import nn\n",
    "from torch import Tensor"
   ]
  },
  {
   "cell_type": "code",
   "execution_count": null,
   "metadata": {},
   "outputs": [],
   "source": []
  },
  {
   "cell_type": "code",
   "execution_count": 5,
   "metadata": {},
   "outputs": [],
   "source": [
    "class ToImage2D(nn.Module):\n",
    "\n",
    "    def __init__(self, size: int):\n",
    "        super().__init__()\n",
    "        self.size = size\n",
    "\n",
    "    def forward(self, values: Tensor, coord: Tensor):\n",
    "\n",
    "        size = self.size\n",
    "        batch = coord.shape[0]\n",
    "\n",
    "        coord_0 = coord[:, :, 0]\n",
    "        coord_0_f = coord_0.floor().type(torch.int64)\n",
    "        coord_0_c = coord_0.ceil().type(torch.int64)\n",
    "\n",
    "        coord_1 = coord[:, :, 1]\n",
    "        coord_1_f = coord_1.floor().type(torch.int64)\n",
    "        coord_1_c = coord_1.ceil().type(torch.int64)\n",
    "\n",
    "        indexes_ff = coord_0_f * size + coord_1_f\n",
    "        indexes_fc = coord_0_f * size + coord_1_c\n",
    "        indexes_cf = coord_0_c * size + coord_1_f\n",
    "        indexes_cc = coord_0_c * size + coord_1_c\n",
    "\n",
    "        diff0c = (coord_0 - coord_0_c).abs()\n",
    "        diff0c[coord_0_c == coord_0_f] = 1\n",
    "        diff1c = (coord_1 - coord_1_c).abs()\n",
    "        diff1c[coord_1_c == coord_1_f] = 1\n",
    "\n",
    "        prob_ff = diff0c * diff1c * values\n",
    "        prob_fc = diff0c * (coord_1 - coord_1_f).abs() * values\n",
    "        prob_cf = (coord_0 - coord_0_f).abs() * diff1c * values\n",
    "        prob_cc = (coord_0 - coord_0_f).abs() * (coord_1 - coord_1_f).abs() * values\n",
    "\n",
    "        img = torch.zeros([batch, size * size], dtype=torch.float32, device=coord.device)\n",
    "        img.scatter_add_(1, indexes_ff, prob_ff)\n",
    "        img.scatter_add_(1, indexes_fc, prob_fc)\n",
    "        img.scatter_add_(1, indexes_cf, prob_cf)\n",
    "        img.scatter_add_(1, indexes_cc, prob_cc)\n",
    "\n",
    "        return img.view(batch, 1, size, size)"
   ]
  },
  {
   "cell_type": "code",
   "execution_count": 19,
   "metadata": {},
   "outputs": [],
   "source": [
    "coords = torch.ones((3, 10, 2))\n",
    "values = torch.zeros((3, 10))/10"
   ]
  },
  {
   "cell_type": "code",
   "execution_count": 26,
   "metadata": {},
   "outputs": [
    {
     "data": {
      "text/plain": [
       "tensor([[[[0., 0., 0.,  ..., 0., 0., 0.],\n",
       "          [0., 0., 0.,  ..., 0., 0., 0.],\n",
       "          [0., 0., 0.,  ..., 0., 0., 0.],\n",
       "          ...,\n",
       "          [0., 0., 0.,  ..., 0., 0., 0.],\n",
       "          [0., 0., 0.,  ..., 0., 0., 0.],\n",
       "          [0., 0., 0.,  ..., 0., 0., 0.]]],\n",
       "\n",
       "\n",
       "        [[[0., 0., 0.,  ..., 0., 0., 0.],\n",
       "          [0., 0., 0.,  ..., 0., 0., 0.],\n",
       "          [0., 0., 0.,  ..., 0., 0., 0.],\n",
       "          ...,\n",
       "          [0., 0., 0.,  ..., 0., 0., 0.],\n",
       "          [0., 0., 0.,  ..., 0., 0., 0.],\n",
       "          [0., 0., 0.,  ..., 0., 0., 0.]]],\n",
       "\n",
       "\n",
       "        [[[0., 0., 0.,  ..., 0., 0., 0.],\n",
       "          [0., 0., 0.,  ..., 0., 0., 0.],\n",
       "          [0., 0., 0.,  ..., 0., 0., 0.],\n",
       "          ...,\n",
       "          [0., 0., 0.,  ..., 0., 0., 0.],\n",
       "          [0., 0., 0.,  ..., 0., 0., 0.],\n",
       "          [0., 0., 0.,  ..., 0., 0., 0.]]]])"
      ]
     },
     "execution_count": 26,
     "metadata": {},
     "output_type": "execute_result"
    }
   ],
   "source": [
    "ToImage2D(20)(values, coords * 19)"
   ]
  },
  {
   "cell_type": "code",
   "execution_count": null,
   "metadata": {},
   "outputs": [],
   "source": []
  },
  {
   "cell_type": "code",
   "execution_count": null,
   "metadata": {},
   "outputs": [],
   "source": []
  },
  {
   "cell_type": "code",
   "execution_count": null,
   "metadata": {},
   "outputs": [],
   "source": []
  },
  {
   "cell_type": "code",
   "execution_count": null,
   "metadata": {},
   "outputs": [],
   "source": []
  },
  {
   "cell_type": "code",
   "execution_count": null,
   "metadata": {},
   "outputs": [],
   "source": []
  },
  {
   "cell_type": "code",
   "execution_count": null,
   "metadata": {},
   "outputs": [],
   "source": []
  },
  {
   "cell_type": "code",
   "execution_count": null,
   "metadata": {},
   "outputs": [],
   "source": []
  },
  {
   "cell_type": "code",
   "execution_count": null,
   "metadata": {},
   "outputs": [],
   "source": []
  },
  {
   "cell_type": "code",
   "execution_count": null,
   "metadata": {},
   "outputs": [],
   "source": []
  },
  {
   "cell_type": "code",
   "execution_count": null,
   "metadata": {},
   "outputs": [],
   "source": []
  },
  {
   "cell_type": "code",
   "execution_count": null,
   "metadata": {},
   "outputs": [],
   "source": []
  },
  {
   "cell_type": "code",
   "execution_count": null,
   "metadata": {},
   "outputs": [],
   "source": []
  },
  {
   "cell_type": "code",
   "execution_count": null,
   "metadata": {},
   "outputs": [],
   "source": []
  },
  {
   "cell_type": "code",
   "execution_count": null,
   "metadata": {},
   "outputs": [],
   "source": []
  },
  {
   "cell_type": "code",
   "execution_count": 71,
   "metadata": {},
   "outputs": [],
   "source": [
    "from torch import Tensor\n",
    "import numpy as np"
   ]
  },
  {
   "cell_type": "code",
   "execution_count": 248,
   "metadata": {},
   "outputs": [],
   "source": [
    "class ToHeatMap:\n",
    "    def __init__(self, size):\n",
    "        self.size = size\n",
    "    def forward(self, values:Tensor, coord: Tensor):\n",
    "        B, N, D = coord.shape\n",
    "\n",
    "        coord_0 = coord[:, :, 0]\n",
    "        coord_0_f = coord_0.floor().type(torch.int64)\n",
    "        coord_0_c = coord_0.ceil().type(torch.int64)\n",
    "\n",
    "        coord_1 = coord[:, :, 1]\n",
    "        coord_1_f = coord_1.floor().type(torch.int64)\n",
    "        coord_1_c = coord_1.ceil().type(torch.int64)\n",
    "\n",
    "        diff0c = (coord_0 - coord_0_c).abs()\n",
    "        diff0c[coord_0_c == coord_0_f] = 1\n",
    "        diff1c = (coord_1 - coord_1_c).abs()\n",
    "        diff1c[coord_1_c == coord_1_f] = 1\n",
    "\n",
    "        prob_ff = diff0c * diff1c * values\n",
    "        prob_fc = diff0c * (coord_1 - coord_1_f).abs() * values\n",
    "        prob_cf = (coord_0 - coord_0_f).abs() * diff1c * values\n",
    "        prob_cc = (coord_0 - coord_0_f).abs() * (coord_1 - coord_1_f).abs() * values\n",
    "\n",
    "        tmp = torch.zeros(B, N * self.size * self.size, device=coord.device)\n",
    "        tmp.scatter_add_(1, torch.arange(N)[None,:] * self.size ** 2 + coord_1_f * self.size + coord_0_f, prob_ff) #prob_ff)\n",
    "        tmp.scatter_add_(1, torch.arange(N)[None,:] * self.size ** 2 + coord_1_c * self.size + coord_0_f, prob_cf) #prob_fc)\n",
    "        tmp.scatter_add_(1, torch.arange(N)[None,:] * self.size ** 2 + coord_1_f * self.size + coord_0_c, prob_fc) #prob_cf)\n",
    "        tmp.scatter_add_(1, torch.arange(N)[None,:] * self.size ** 2 + coord_1_c * self.size + coord_0_c, prob_cc) #prob_cc)\n",
    "        \n",
    "        return tmp.reshape((B, N, self.size, self.size))\n"
   ]
  },
  {
   "cell_type": "code",
   "execution_count": 258,
   "metadata": {},
   "outputs": [],
   "source": [
    "def final_preds_untransformed(output, res):\n",
    "    coords = get_preds(output) # float type\n",
    "\n",
    "    # pose-processing\n",
    "    for n in range(coords.size(0)):\n",
    "        for p in range(coords.size(1)):\n",
    "            hm = output[n][p]\n",
    "            px = int(math.floor(coords[n][p][0]))\n",
    "            py = int(math.floor(coords[n][p][1]))\n",
    "            if px > 1 and px < res[0] and py > 1 and py < res[1]:\n",
    "                diff = torch.tensor([hm[py - 1][px] - hm[py - 1][px - 2], hm[py][px - 1]-hm[py - 2][px - 1]], device=output.device)\n",
    "                coords[n][p] += diff.sign() * .25\n",
    "    coords += 0.5\n",
    "\n",
    "    if coords.dim() < 3:\n",
    "        coords = coords.unsqueeze(0)\n",
    "\n",
    "    coords -= 1  # Convert from 1-based to 0-based coordinates\n",
    "\n",
    "    return coords\n",
    "\n",
    "\n",
    "def get_preds(scores):\n",
    "    ''' get predictions from score maps in torch Tensor\n",
    "        return type: torch.LongTensor\n",
    "    '''\n",
    "    assert scores.dim() == 4, 'Score maps should be 4-dim'\n",
    "    maxval, idx = torch.max(scores.view(scores.size(0), scores.size(1), -1), 2)\n",
    "\n",
    "    maxval = maxval.view(scores.size(0), scores.size(1), 1)\n",
    "    idx = idx.view(scores.size(0), scores.size(1), 1) + 1\n",
    "\n",
    "    preds = idx.repeat(1, 1, 2).float()\n",
    "\n",
    "    preds[:,:,0] = (preds[:,:,0] - 1) % scores.size(3) + 1\n",
    "    preds[:,:,1] = torch.floor((preds[:,:,1] - 1) / scores.size(3)) + 1\n",
    "\n",
    "    pred_mask = maxval.gt(0).repeat(1, 1, 2).float()\n",
    "    preds *= pred_mask\n",
    "    return preds"
   ]
  },
  {
   "cell_type": "code",
   "execution_count": 264,
   "metadata": {},
   "outputs": [],
   "source": [
    "import math\n",
    "coordici = final_preds_untransformed(res, (100,100))"
   ]
  },
  {
   "cell_type": "code",
   "execution_count": 265,
   "metadata": {},
   "outputs": [
    {
     "data": {
      "text/plain": [
       "<matplotlib.collections.PathCollection at 0x7f4daf145c88>"
      ]
     },
     "execution_count": 265,
     "metadata": {},
     "output_type": "execute_result"
    },
    {
     "data": {
      "image/png": "[encoded data removed]",
      "text/plain": [
       "<Figure size 432x288 with 1 Axes>"
      ]
     },
     "metadata": {
      "needs_background": "light"
     },
     "output_type": "display_data"
    }
   ],
   "source": [
    "plt.scatter(coordici[0,:,0].numpy(),coordici[0,:,1].numpy())"
   ]
  },
  {
   "cell_type": "code",
   "execution_count": 249,
   "metadata": {},
   "outputs": [],
   "source": [
    "import matplotlib.pyplot as plt\n",
    "import matplotlib.image as mpimg\n",
    "from scipy.ndimage import rotate\n",
    "# from scipy.misc import imread, imshow"
   ]
  },
  {
   "cell_type": "code",
   "execution_count": 250,
   "metadata": {
    "scrolled": true
   },
   "outputs": [
    {
     "data": {
      "image/png": "[encoded data removed]",
      "text/plain": [
       "<Figure size 432x288 with 1 Axes>"
      ]
     },
     "metadata": {
      "needs_background": "light"
     },
     "output_type": "display_data"
    }
   ],
   "source": [
    "batch_size, N, size = 5, 10, 100\n",
    "prob = torch.randn(batch_size, N).abs()\n",
    "coord = torch.randint(0, 100, (batch_size, N, 2)) * 0.99\n",
    "plt.scatter(coord[0,:,0].numpy(),coord[0,:,1].numpy())\n",
    "res = ToHeatMap(100).forward(prob, coord)"
   ]
  },
  {
   "cell_type": "code",
   "execution_count": 251,
   "metadata": {},
   "outputs": [
    {
     "data": {
      "text/plain": [
       "tensor([42.5700, 71.2800])"
      ]
     },
     "execution_count": 251,
     "metadata": {},
     "output_type": "execute_result"
    }
   ],
   "source": [
    "coord[0,2]"
   ]
  },
  {
   "cell_type": "code",
   "execution_count": 255,
   "metadata": {},
   "outputs": [
    {
     "data": {
      "text/plain": [
       "tensor(0.0565)"
      ]
     },
     "execution_count": 255,
     "metadata": {},
     "output_type": "execute_result"
    }
   ],
   "source": [
    "res[0][0].sum()"
   ]
  },
  {
   "cell_type": "code",
   "execution_count": 252,
   "metadata": {},
   "outputs": [
    {
     "name": "stdout",
     "output_type": "stream",
     "text": [
      "(100, 100)\n"
     ]
    },
    {
     "data": {
      "text/plain": [
       "<matplotlib.image.AxesImage at 0x7f4daceace80>"
      ]
     },
     "execution_count": 252,
     "metadata": {},
     "output_type": "execute_result"
    },
    {
     "data": {
      "image/png": "[encoded data removed]",
      "text/plain": [
       "<Figure size 360x720 with 1 Axes>"
      ]
     },
     "metadata": {
      "needs_background": "light"
     },
     "output_type": "display_data"
    }
   ],
   "source": [
    "plt.figure(figsize=(5,10))\n",
    "print(res[0].sum(dim=0).numpy().shape)\n",
    "# plt.imshow(scipy.ndimage.rotate(res[0].sum(dim=0).numpy(), 90))\n",
    "# torch.rot90(x, 1, [0, 1])\n",
    "plt.imshow(res[0].sum(dim=0).numpy())"
   ]
  },
  {
   "cell_type": "code",
   "execution_count": 209,
   "metadata": {},
   "outputs": [],
   "source": []
  },
  {
   "cell_type": "code",
   "execution_count": null,
   "metadata": {},
   "outputs": [],
   "source": []
  },
  {
   "cell_type": "code",
   "execution_count": 170,
   "metadata": {},
   "outputs": [
    {
     "data": {
      "text/plain": [
       "torch.Size([5, 10, 120, 120])"
      ]
     },
     "execution_count": 170,
     "metadata": {},
     "output_type": "execute_result"
    }
   ],
   "source": [
    "res.shape"
   ]
  },
  {
   "cell_type": "code",
   "execution_count": null,
   "metadata": {},
   "outputs": [],
   "source": []
  },
  {
   "cell_type": "code",
   "execution_count": 88,
   "metadata": {},
   "outputs": [
    {
     "data": {
      "text/plain": [
       "<matplotlib.image.AxesImage at 0x7f4db00eb0b8>"
      ]
     },
     "execution_count": 88,
     "metadata": {},
     "output_type": "execute_result"
    },
    {
     "data": {
      "image/png": "[encoded data removed]",
      "text/plain": [
       "<Figure size 432x288 with 1 Axes>"
      ]
     },
     "metadata": {
      "needs_background": "light"
     },
     "output_type": "display_data"
    }
   ],
   "source": [
    "plt.imshow(res[0].sum(dim=0).numpy())\n"
   ]
  },
  {
   "cell_type": "code",
   "execution_count": null,
   "metadata": {},
   "outputs": [],
   "source": []
  },
  {
   "cell_type": "code",
   "execution_count": 24,
   "metadata": {},
   "outputs": [
    {
     "name": "stdout",
     "output_type": "stream",
     "text": [
      "torch.Size([5, 10])\n",
      "landmarks, shape torch.Size([5, 10, 2])\n",
      "rows shape torch.Size([5, 10])\n",
      "cols shape torch.Size([5, 10])\n",
      "tmp shape torch.Size([5, 10, 20, 20])\n",
      "tmp shape torch.Size([5, 10, 20, 20])\n"
     ]
    }
   ],
   "source": [
    "batch_size, N, size = 5, 10, 20\n",
    "prob = torch.randn(batch_size, N)\n",
    "print(prob.shape)\n",
    "landmarks = torch.randint(0, size, (batch_size, N, 2))\n",
    "print('landmarks, shape', landmarks.shape)\n",
    "rows, cols = landmarks[..., 0], landmarks[..., 1] #,torch.split(landmarks, 1, 2)\n",
    "print('rows shape', rows.shape)\n",
    "print('cols shape', cols.shape)\n",
    "tmp = torch.zeros(batch_size, N, size, size)\n",
    "print('tmp shape', tmp.shape)\n",
    "tmp[:, :, rows, cols] = prob\n",
    "print('tmp shape', tmp.shape)"
   ]
  },
  {
   "cell_type": "code",
   "execution_count": 25,
   "metadata": {},
   "outputs": [
    {
     "data": {
      "text/plain": [
       "tensor([[ 9, 10],\n",
       "        [ 1, 16],\n",
       "        [ 9, 12],\n",
       "        [14, 10],\n",
       "        [ 2,  7],\n",
       "        [ 2,  5],\n",
       "        [ 3, 16],\n",
       "        [ 2,  2],\n",
       "        [ 8,  1],\n",
       "        [14,  5]])"
      ]
     },
     "execution_count": 25,
     "metadata": {},
     "output_type": "execute_result"
    }
   ],
   "source": [
    "landmarks[0]"
   ]
  },
  {
   "cell_type": "code",
   "execution_count": 26,
   "metadata": {},
   "outputs": [
    {
     "data": {
      "text/plain": [
       "tensor(0.1832)"
      ]
     },
     "execution_count": 26,
     "metadata": {},
     "output_type": "execute_result"
    }
   ],
   "source": [
    "prob[0,2]"
   ]
  },
  {
   "cell_type": "code",
   "execution_count": 27,
   "metadata": {},
   "outputs": [
    {
     "data": {
      "text/plain": [
       "tensor(0.1832)"
      ]
     },
     "execution_count": 27,
     "metadata": {},
     "output_type": "execute_result"
    }
   ],
   "source": [
    "tmp[0][0][9][12]"
   ]
  },
  {
   "cell_type": "code",
   "execution_count": 88,
   "metadata": {},
   "outputs": [
    {
     "name": "stdout",
     "output_type": "stream",
     "text": [
      "tensor([[[ 0,  2],\n",
      "         [ 8, 16],\n",
      "         [14,  5],\n",
      "         [12,  7],\n",
      "         [ 1,  4],\n",
      "         [15, 10],\n",
      "         [ 8,  9],\n",
      "         [16,  0],\n",
      "         [ 0,  9],\n",
      "         [ 5,  2]],\n",
      "\n",
      "        [[ 7,  9],\n",
      "         [19,  3],\n",
      "         [ 5, 13],\n",
      "         [ 0, 19],\n",
      "         [19, 17],\n",
      "         [ 6,  3],\n",
      "         [16, 11],\n",
      "         [11, 11],\n",
      "         [ 5, 18],\n",
      "         [18,  0]],\n",
      "\n",
      "        [[ 7, 16],\n",
      "         [16,  3],\n",
      "         [ 2,  1],\n",
      "         [ 4, 19],\n",
      "         [ 8, 13],\n",
      "         [13, 15],\n",
      "         [17,  4],\n",
      "         [ 2,  4],\n",
      "         [ 4, 12],\n",
      "         [ 4, 13]],\n",
      "\n",
      "        [[ 0,  7],\n",
      "         [16, 15],\n",
      "         [ 4, 13],\n",
      "         [15, 15],\n",
      "         [10,  3],\n",
      "         [ 7, 12],\n",
      "         [ 4,  5],\n",
      "         [ 8,  1],\n",
      "         [ 4, 11],\n",
      "         [10,  1]],\n",
      "\n",
      "        [[ 2,  4],\n",
      "         [ 5, 17],\n",
      "         [14, 18],\n",
      "         [14,  0],\n",
      "         [ 1,  8],\n",
      "         [17,  3],\n",
      "         [12,  3],\n",
      "         [ 9, 18],\n",
      "         [ 1,  7],\n",
      "         [ 6, 13]]])\n"
     ]
    }
   ],
   "source": [
    "print(landmarks)"
   ]
  },
  {
   "cell_type": "code",
   "execution_count": 76,
   "metadata": {},
   "outputs": [
    {
     "data": {
      "text/plain": [
       "torch.Size([5, 10, 1])"
      ]
     },
     "execution_count": 76,
     "metadata": {},
     "output_type": "execute_result"
    }
   ],
   "source": [
    "listochek[0].shape"
   ]
  },
  {
   "cell_type": "code",
   "execution_count": 55,
   "metadata": {},
   "outputs": [
    {
     "ename": "TypeError",
     "evalue": "split() takes from 2 to 3 positional arguments but 4 were given",
     "output_type": "error",
     "traceback": [
      "\u001b[0;31m---------------------------------------------------------------------------\u001b[0m",
      "\u001b[0;31mTypeError\u001b[0m                                 Traceback (most recent call last)",
      "\u001b[0;32m<ipython-input-55-c5415f0bfcfb>\u001b[0m in \u001b[0;36m<module>\u001b[0;34m\u001b[0m\n\u001b[0;32m----> 1\u001b[0;31m \u001b[0mrows\u001b[0m\u001b[0;34m,\u001b[0m \u001b[0mcols\u001b[0m \u001b[0;34m=\u001b[0m \u001b[0mlandmarks\u001b[0m\u001b[0;34m.\u001b[0m\u001b[0msplit\u001b[0m\u001b[0;34m(\u001b[0m\u001b[0;36m1\u001b[0m\u001b[0;34m,\u001b[0m\u001b[0;36m1\u001b[0m\u001b[0;34m,\u001b[0m\u001b[0;36m1\u001b[0m\u001b[0;34m)\u001b[0m\u001b[0;34m\u001b[0m\u001b[0;34m\u001b[0m\u001b[0m\n\u001b[0m\u001b[1;32m      2\u001b[0m \u001b[0mprint\u001b[0m\u001b[0;34m(\u001b[0m\u001b[0mrows\u001b[0m\u001b[0;34m.\u001b[0m\u001b[0mshape\u001b[0m\u001b[0;34m)\u001b[0m\u001b[0;34m\u001b[0m\u001b[0;34m\u001b[0m\u001b[0m\n\u001b[1;32m      3\u001b[0m \u001b[0mprint\u001b[0m\u001b[0;34m(\u001b[0m\u001b[0mcols\u001b[0m\u001b[0;34m.\u001b[0m\u001b[0mshape\u001b[0m\u001b[0;34m)\u001b[0m\u001b[0;34m\u001b[0m\u001b[0;34m\u001b[0m\u001b[0m\n",
      "\u001b[0;31mTypeError\u001b[0m: split() takes from 2 to 3 positional arguments but 4 were given"
     ]
    }
   ],
   "source": [
    "rows, cols = landmarks.split()\n",
    "print(rows.shape)\n",
    "print(cols.shape)"
   ]
  },
  {
   "cell_type": "code",
   "execution_count": null,
   "metadata": {},
   "outputs": [],
   "source": [
    "tmp = torch.zeros(N, 3, H, W)"
   ]
  },
  {
   "cell_type": "code",
   "execution_count": 53,
   "metadata": {},
   "outputs": [
    {
     "data": {
      "text/plain": [
       "torch.Size([5, 10, 2])"
      ]
     },
     "execution_count": 53,
     "metadata": {},
     "output_type": "execute_result"
    }
   ],
   "source": [
    "landmarks.shape"
   ]
  },
  {
   "cell_type": "code",
   "execution_count": 38,
   "metadata": {},
   "outputs": [
    {
     "data": {
      "text/plain": [
       "tensor([4, 8])"
      ]
     },
     "execution_count": 38,
     "metadata": {},
     "output_type": "execute_result"
    }
   ],
   "source": [
    "landmarks[0]"
   ]
  },
  {
   "cell_type": "code",
   "execution_count": 41,
   "metadata": {},
   "outputs": [
    {
     "name": "stdout",
     "output_type": "stream",
     "text": [
      "tensor([[4, 8],\n",
      "        [5, 8],\n",
      "        [6, 1],\n",
      "        [3, 0],\n",
      "        [5, 1],\n",
      "        [1, 0],\n",
      "        [6, 6],\n",
      "        [5, 8],\n",
      "        [3, 0],\n",
      "        [3, 5],\n",
      "        [7, 0],\n",
      "        [8, 3]])\n"
     ]
    }
   ],
   "source": [
    "print(landmarks)"
   ]
  },
  {
   "cell_type": "code",
   "execution_count": 42,
   "metadata": {},
   "outputs": [
    {
     "data": {
      "text/plain": [
       "(tensor([[4],\n",
       "         [5],\n",
       "         [6],\n",
       "         [3],\n",
       "         [5],\n",
       "         [1],\n",
       "         [6],\n",
       "         [5],\n",
       "         [3],\n",
       "         [3],\n",
       "         [7],\n",
       "         [8]]),\n",
       " tensor([[8],\n",
       "         [8],\n",
       "         [1],\n",
       "         [0],\n",
       "         [1],\n",
       "         [0],\n",
       "         [6],\n",
       "         [8],\n",
       "         [0],\n",
       "         [5],\n",
       "         [0],\n",
       "         [3]]))"
      ]
     },
     "execution_count": 42,
     "metadata": {},
     "output_type": "execute_result"
    }
   ],
   "source": [
    "landmarks.split(1, 1)"
   ]
  },
  {
   "cell_type": "code",
   "execution_count": 2,
   "metadata": {},
   "outputs": [
    {
     "data": {
      "text/plain": [
       "['/usr/lib/python36.zip',\n",
       " '/usr/lib/python3.6',\n",
       " '/usr/lib/python3.6/lib-dynload',\n",
       " '',\n",
       " '/home/ibespalov/venv/lib/python3.6/site-packages',\n",
       " '/home/ibespalov/venv/lib/python3.6/site-packages/geomloss-0.2.3-py3.6.egg',\n",
       " '/home/ibespalov/venv/lib/python3.6/site-packages/IPython/extensions',\n",
       " '/home/ibespalov/.ipython',\n",
       " '/usr/lib/python36.zip/../',\n",
       " '/usr/lib/python36.zip/../dataset',\n",
       " '/usr/lib/python36.zip/../gans_pytorch/',\n",
       " '/usr/lib/python36.zip/../gans_pytorch/stylegan2',\n",
       " '/usr/lib/python36.zip/../gans_pytorch/gan/']"
      ]
     },
     "execution_count": 2,
     "metadata": {},
     "output_type": "execute_result"
    }
   ],
   "source": [
    "sys.path"
   ]
  },
  {
   "cell_type": "code",
   "execution_count": null,
   "metadata": {},
   "outputs": [],
   "source": []
  }
 ],
 "metadata": {
  "kernelspec": {
   "display_name": "Python 3",
   "language": "python",
   "name": "python3"
  },
  "language_info": {
   "codemirror_mode": {
    "name": "ipython",
    "version": 3
   },
   "file_extension": ".py",
   "mimetype": "text/x-python",
   "name": "python",
   "nbconvert_exporter": "python",
   "pygments_lexer": "ipython3",
   "version": "3.6.9"
  }
 },
 "nbformat": 4,
 "nbformat_minor": 4
}

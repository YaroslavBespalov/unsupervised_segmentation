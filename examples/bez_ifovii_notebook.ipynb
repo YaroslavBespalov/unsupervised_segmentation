{
 "cells": [
  {
   "cell_type": "code",
   "execution_count": 46,
   "metadata": {},
   "outputs": [],
   "source": [
    "from abc import ABC, abstractmethod\n",
    "from typing import List, Callable, TypeVar, Generic, Optional, Type, Union, Tuple, Dict, Any\n",
    "import torch\n",
    "from torch import Tensor\n",
    "import torch.nn as nn\n",
    "import torch.nn.functional as F\n",
    "\n",
    "\n",
    "TLT = TypeVar(\"TLT\", Tensor, List[Tensor])\n",
    "\n",
    "ITTT = TypeVar(\"ITTT\", Tensor, Tuple[Tensor])\n",
    "\n",
    "class TensorCollector(ABC, Generic[TLT]):\n",
    "    @abstractmethod\n",
    "    def append(self, t: Tensor) -> None:\n",
    "        pass\n",
    "\n",
    "    @abstractmethod\n",
    "    def result(self) -> TLT:\n",
    "        pass\n",
    "\n",
    "\n",
    "class ListCollector(TensorCollector[List[Tensor]]):\n",
    "\n",
    "    def __init__(self):\n",
    "        self.data = []\n",
    "\n",
    "    def result(self) -> List[Tensor]:\n",
    "        out = self.data\n",
    "        self.data = []\n",
    "        return out\n",
    "\n",
    "    def append(self, t: Tensor) -> None:\n",
    "        self.data.append(t)\n",
    "\n",
    "\n",
    "class ReverseListCollector(ListCollector):\n",
    "\n",
    "    def result(self) -> List[Tensor]:\n",
    "        self.data.reverse()\n",
    "        out = self.data\n",
    "        self.data = []\n",
    "        return out\n",
    "\n",
    "\n",
    "class LastElementCollector(TensorCollector[Tensor]):\n",
    "\n",
    "    def __init__(self):\n",
    "        self.data: Optional[Tensor] = None\n",
    "\n",
    "    def result(self) -> Tensor:\n",
    "        out = self.data\n",
    "        self.data = None\n",
    "        return out\n",
    "\n",
    "    def append(self, t: Tensor) -> None:\n",
    "        self.data = t\n",
    "\n",
    "\n",
    "class Cat_function(ABC, Generic[ITTT]):\n",
    "    @abstractmethod\n",
    "    def tensor_merge(self, input: ITTT, state: Tensor):\n",
    "        pass\n",
    "\n",
    "\n",
    "class Cat_Tuple(Cat_function):\n",
    "    pass\n",
    "\n",
    "\n",
    "class Cat_torch(Cat_function):\n",
    "    pass\n",
    "\n",
    "\n",
    "CF = TypeVar(\"CF\", bound=Cat_function)\n",
    "\n",
    "\n",
    "def merge_not_torch_tensor(input: Tensor, state: Tensor):\n",
    "    return (input, state)\n",
    "\n",
    "\n",
    "def merge_torch_tensor(input: Tensor, state: Tensor):\n",
    "    return torch.cat((input, state), dim=1)\n",
    "\n",
    "\n",
    "def merge_non_torch_tuple(input: Tuple[Tensor], state: Tensor):\n",
    "    return (*input, state)\n",
    "\n",
    "\n",
    "class Implicit_cat(Generic[ITTT, CF]):\n",
    "    @classmethod\n",
    "    def tensor_merge(cls, input: ITTT, state: Tensor):\n",
    "        return Implicit_cat.implicit_cat[cls.__args__[1]][cls.__args__[0]](input, state)\n",
    "\n",
    "\n",
    "\n",
    "\n",
    "    implicit_cat: Dict[Tuple[Cat_function, ITTT], Any] = {\n",
    "        Cat_Tuple: {Tensor: merge_not_torch_tensor, Tuple[Tensor]: merge_non_torch_tuple},\n",
    "        Cat_torch: {Tensor: merge_torch_tensor}\n",
    "    }\n",
    "\n",
    "\n",
    "class ProgressiveModuleList(nn.Module, Generic[TLT, ITTT]):\n",
    "    def __init__(self,\n",
    "                 blocks: List[nn.Module],\n",
    "                 cat_function: Callable[[ITTT, Tensor], Tensor],\n",
    "                 collector_class: Type[TensorCollector[TLT]] = ListCollector\n",
    "                 ):\n",
    "        super(ProgressiveModuleList, self).__init__()\n",
    "        self.model_list = nn.ModuleList(blocks)\n",
    "        self.collector_class = collector_class\n",
    "        self.cat_function = cat_function\n",
    "\n",
    "\n",
    "    def forward(self, input: List[ITTT], state: Optional[Tensor]) -> TLT:\n",
    "        collector: TensorCollector[TLT] = self.collector_class()\n",
    "        x = input[0]\n",
    "        i = 0\n",
    "        while i < (len(input) - 1):\n",
    "            x = self.model_list[i](x)\n",
    "            collector.append(x)\n",
    "            x = torch.cat([x, input[i+1]], dim=1)\n",
    "            i += 1\n",
    "        while i < len(self.model_list):\n",
    "            x = self.model_list[i](x)\n",
    "            collector.append(x)\n",
    "            i += 1\n",
    "        return collector.result()\n",
    "\n",
    "\n",
    "class ElementwiseModuleList(nn.Module, Generic[TLT]):\n",
    "    def __init__(self,\n",
    "                 blocks: List[nn.Module],\n",
    "                 collector_class: Type[TensorCollector[TLT]] = ListCollector):\n",
    "        super(ElementwiseModuleList, self).__init__()\n",
    "        self.model_list = nn.ModuleList(blocks)\n",
    "        self.collector_class = collector_class\n",
    "\n",
    "    def forward(self, input: List[Tensor]) -> TLT:\n",
    "        collector: TensorCollector[TLT] = self.collector_class()\n",
    "        i = 0\n",
    "        while i < len(input):\n",
    "            x = self.model_list[i](input[i])\n",
    "            collector.append(x)\n",
    "            i += 1\n",
    "        return collector.result()"
   ]
  },
  {
   "cell_type": "code",
   "execution_count": 47,
   "metadata": {},
   "outputs": [
    {
     "data": {
      "text/plain": [
       "dict_keys([__main__.Cat_Tuple, __main__.Cat_torch])"
      ]
     },
     "execution_count": 47,
     "metadata": {},
     "output_type": "execute_result"
    }
   ],
   "source": [
    "Implicit_cat[Tensor, Cat_Tuple].implicit_cat.keys()"
   ]
  },
  {
   "cell_type": "code",
   "execution_count": 48,
   "metadata": {},
   "outputs": [],
   "source": [
    "res = Implicit_cat[Tensor, Cat_Tuple].tensor_merge(input=torch.ones(2,2), state=torch.ones(3,3))"
   ]
  },
  {
   "cell_type": "code",
   "execution_count": 49,
   "metadata": {},
   "outputs": [
    {
     "data": {
      "text/plain": [
       "(tensor([[1., 1.],\n",
       "         [1., 1.]]),\n",
       " tensor([[1., 1., 1.],\n",
       "         [1., 1., 1.],\n",
       "         [1., 1., 1.]]))"
      ]
     },
     "execution_count": 49,
     "metadata": {},
     "output_type": "execute_result"
    }
   ],
   "source": [
    "res"
   ]
  },
  {
   "cell_type": "code",
   "execution_count": null,
   "metadata": {},
   "outputs": [],
   "source": []
  }
 ],
 "metadata": {
  "kernelspec": {
   "display_name": "Python 3",
   "language": "python",
   "name": "python3"
  },
  "language_info": {
   "codemirror_mode": {
    "name": "ipython",
    "version": 3
   },
   "file_extension": ".py",
   "mimetype": "text/x-python",
   "name": "python",
   "nbconvert_exporter": "python",
   "pygments_lexer": "ipython3",
   "version": "3.6.9"
  }
 },
 "nbformat": 4,
 "nbformat_minor": 4
}

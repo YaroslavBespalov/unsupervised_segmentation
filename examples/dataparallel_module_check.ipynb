{
 "cells": [
  {
   "cell_type": "code",
   "execution_count": 1,
   "metadata": {},
   "outputs": [],
   "source": [
    "import argparse\n",
    "import sys, os\n",
    "sys.path.append(os.path.join(sys.path[0], '/home/ibespalov/unsupervised_pattern_segmentation/'))\n",
    "sys.path.append(os.path.join(sys.path[0], '/home/ibespalov/unsupervised_pattern_segmentation/gans_pytorch/'))\n",
    "sys.path.append(os.path.join(sys.path[0], '/home/ibespalov/unsupervised_pattern_segmentation/gans_pytorch/stylegan2'))\n",
    "sys.path.append(os.path.join(sys.path[0], '/home/ibespalov/unsupervised_pattern_segmentation/gans_pytorch/gan/'))\n",
    "from gan.gan_model import cont_style_munit_enc\n",
    "from models.munit.enc_dec import MunitEncoder\n",
    "from parameters.dataset import DatasetParameters\n",
    "from parameters.deformation import DeformationParameters\n",
    "from parameters.gan import GanParameters, MunitParameters\n",
    "\n",
    "import albumentations\n",
    "import torch\n",
    "from albumentations.pytorch.transforms import ToTensor as AlbToTensor\n",
    "from dataset.cardio_dataset import ImageMeasureDataset\n",
    "from torch.utils import data\n",
    "from transforms_utils.transforms import MaskToMeasure\n",
    "from dataset.d300w import ThreeHundredW\n",
    "from dataset.probmeasure import ProbabilityMeasureFabric, ProbabilityMeasure\n",
    "import numpy as np"
   ]
  },
  {
   "cell_type": "code",
   "execution_count": 9,
   "metadata": {},
   "outputs": [
    {
     "name": "stdout",
     "output_type": "stream",
     "text": [
      "cuda:3\n"
     ]
    }
   ],
   "source": [
    "device = torch.device(\"cuda:3\" if torch.cuda.is_available() else \"cpu\")\n",
    "print(device)"
   ]
  },
  {
   "cell_type": "code",
   "execution_count": 10,
   "metadata": {},
   "outputs": [],
   "source": [
    "from torch import nn"
   ]
  },
  {
   "cell_type": "code",
   "execution_count": 11,
   "metadata": {},
   "outputs": [],
   "source": [
    "linear_layer = nn.Linear(10,2).cuda()"
   ]
  },
  {
   "cell_type": "code",
   "execution_count": 12,
   "metadata": {},
   "outputs": [],
   "source": [
    "opt = torch.optim.Adam(linear_layer.parameters(), lr=0.03)"
   ]
  },
  {
   "cell_type": "code",
   "execution_count": 13,
   "metadata": {},
   "outputs": [],
   "source": [
    "linear_parallel_model = nn.DataParallel(linear_layer, [0, 1, 2])"
   ]
  },
  {
   "cell_type": "code",
   "execution_count": 14,
   "metadata": {},
   "outputs": [],
   "source": [
    "input_tensor = torch.randn((8,10)).cuda()"
   ]
  },
  {
   "cell_type": "code",
   "execution_count": 16,
   "metadata": {},
   "outputs": [
    {
     "data": {
      "text/plain": [
       "Parameter containing:\n",
       "tensor([[ 0.0507,  0.0180,  0.2655, -0.2965,  0.2900,  0.0445, -0.1661, -0.0893,\n",
       "         -0.1243,  0.1989],\n",
       "        [-0.0234,  0.1321, -0.0669,  0.1198, -0.1414,  0.2823,  0.0564, -0.2042,\n",
       "          0.1247,  0.1711]], device='cuda:0', requires_grad=True)"
      ]
     },
     "execution_count": 16,
     "metadata": {},
     "output_type": "execute_result"
    }
   ],
   "source": [
    "linear_layer.weight"
   ]
  },
  {
   "cell_type": "code",
   "execution_count": 17,
   "metadata": {},
   "outputs": [],
   "source": [
    "final_tensor = linear_parallel_model(input_tensor)"
   ]
  },
  {
   "cell_type": "code",
   "execution_count": 18,
   "metadata": {},
   "outputs": [],
   "source": [
    "final_tensor.sum().backward()"
   ]
  },
  {
   "cell_type": "code",
   "execution_count": 19,
   "metadata": {},
   "outputs": [],
   "source": [
    "opt.step()"
   ]
  },
  {
   "cell_type": "code",
   "execution_count": 20,
   "metadata": {},
   "outputs": [
    {
     "data": {
      "text/plain": [
       "Parameter containing:\n",
       "tensor([[ 0.0207, -0.0120,  0.2355, -0.2665,  0.3200,  0.0745, -0.1361, -0.1193,\n",
       "         -0.1543,  0.2289],\n",
       "        [-0.0534,  0.1021, -0.0969,  0.1498, -0.1114,  0.3123,  0.0864, -0.2342,\n",
       "          0.0947,  0.2011]], device='cuda:0', requires_grad=True)"
      ]
     },
     "execution_count": 20,
     "metadata": {},
     "output_type": "execute_result"
    }
   ],
   "source": [
    "linear_layer.weight"
   ]
  },
  {
   "cell_type": "code",
   "execution_count": 23,
   "metadata": {},
   "outputs": [],
   "source": [
    "linear_layer.weight[0][0] = 0.5"
   ]
  },
  {
   "cell_type": "code",
   "execution_count": 25,
   "metadata": {},
   "outputs": [
    {
     "data": {
      "text/plain": [
       "Parameter containing:\n",
       "tensor([[ 0.5000, -0.0120,  0.2355, -0.2665,  0.3200,  0.0745, -0.1361, -0.1193,\n",
       "         -0.1543,  0.2289],\n",
       "        [-0.0534,  0.1021, -0.0969,  0.1498, -0.1114,  0.3123,  0.0864, -0.2342,\n",
       "          0.0947,  0.2011]], device='cuda:0', grad_fn=<CopySlices>)"
      ]
     },
     "execution_count": 25,
     "metadata": {},
     "output_type": "execute_result"
    }
   ],
   "source": [
    "linear_parallel_model.module.weight"
   ]
  }
 ],
 "metadata": {
  "kernelspec": {
   "display_name": "Python 3",
   "language": "python",
   "name": "python3"
  },
  "language_info": {
   "codemirror_mode": {
    "name": "ipython",
    "version": 3
   },
   "file_extension": ".py",
   "mimetype": "text/x-python",
   "name": "python",
   "nbconvert_exporter": "python",
   "pygments_lexer": "ipython3",
   "version": "3.6.9"
  }
 },
 "nbformat": 4,
 "nbformat_minor": 4
}
